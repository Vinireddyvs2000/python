{
 "cells": [
  {
   "cell_type": "markdown",
   "id": "fa3c74d0",
   "metadata": {},
   "source": [
    "###  Introductions"
   ]
  },
  {
   "cell_type": "code",
   "execution_count": 1,
   "id": "e6462c9f",
   "metadata": {},
   "outputs": [],
   "source": [
    "i = 10"
   ]
  },
  {
   "cell_type": "code",
   "execution_count": 2,
   "id": "b40a91ac",
   "metadata": {},
   "outputs": [
    {
     "data": {
      "text/plain": [
       "int"
      ]
     },
     "execution_count": 2,
     "metadata": {},
     "output_type": "execute_result"
    }
   ],
   "source": [
    "type(i)"
   ]
  },
  {
   "cell_type": "code",
   "execution_count": 3,
   "id": "a6ed57ec",
   "metadata": {},
   "outputs": [
    {
     "name": "stdout",
     "output_type": "stream",
     "text": [
      "<class 'int'>\n"
     ]
    }
   ],
   "source": [
    "print(type(i))"
   ]
  },
  {
   "cell_type": "code",
   "execution_count": 4,
   "id": "e2dc23f0",
   "metadata": {},
   "outputs": [
    {
     "name": "stdout",
     "output_type": "stream",
     "text": [
      "10\n"
     ]
    }
   ],
   "source": [
    "print(i)"
   ]
  },
  {
   "cell_type": "markdown",
   "id": "8fccd9f0",
   "metadata": {},
   "source": [
    "###  Strings\n",
    "\n",
    "\n",
    "* A collections of characters\n",
    "\n",
    "* can be defined using either double quotes or single quotes\n",
    "\n",
    "* IMUTABLE"
   ]
  },
  {
   "cell_type": "code",
   "execution_count": 5,
   "id": "6d71dd7b",
   "metadata": {},
   "outputs": [],
   "source": [
    "Data = (\"welcome to the data science class\")"
   ]
  },
  {
   "cell_type": "code",
   "execution_count": 6,
   "id": "d61787e4",
   "metadata": {},
   "outputs": [
    {
     "name": "stdout",
     "output_type": "stream",
     "text": [
      "welcome to the data science class\n"
     ]
    }
   ],
   "source": [
    "print(Data)"
   ]
  },
  {
   "cell_type": "code",
   "execution_count": 7,
   "id": "c0ad6c41",
   "metadata": {},
   "outputs": [
    {
     "data": {
      "text/plain": [
       "str"
      ]
     },
     "execution_count": 7,
     "metadata": {},
     "output_type": "execute_result"
    }
   ],
   "source": [
    "type(Data)"
   ]
  },
  {
   "cell_type": "code",
   "execution_count": 8,
   "id": "5dbcf6e4",
   "metadata": {},
   "outputs": [
    {
     "data": {
      "text/plain": [
       "33"
      ]
     },
     "execution_count": 8,
     "metadata": {},
     "output_type": "execute_result"
    }
   ],
   "source": [
    "len(Data)"
   ]
  },
  {
   "cell_type": "code",
   "execution_count": 9,
   "id": "43154361",
   "metadata": {},
   "outputs": [
    {
     "name": "stdout",
     "output_type": "stream",
     "text": [
      "<class 'str'>\n"
     ]
    }
   ],
   "source": [
    "print(type(Data))"
   ]
  },
  {
   "cell_type": "markdown",
   "id": "b199935c",
   "metadata": {},
   "source": [
    "###  Indexing\n",
    "\n",
    "* The indexing start from (zero)\n",
    "* the access any element always use subscript operater [].....only numbers\n",
    "\n",
    "\n",
    "* positive indexing\n",
    "* negative indexing"
   ]
  },
  {
   "cell_type": "markdown",
   "id": "dbd173a8",
   "metadata": {},
   "source": [
    "####  Positive indexing"
   ]
  },
  {
   "cell_type": "code",
   "execution_count": 10,
   "id": "d6bd95a7",
   "metadata": {},
   "outputs": [
    {
     "data": {
      "text/plain": [
       "'welcome to the data science class'"
      ]
     },
     "execution_count": 10,
     "metadata": {},
     "output_type": "execute_result"
    }
   ],
   "source": [
    "Data"
   ]
  },
  {
   "cell_type": "code",
   "execution_count": 11,
   "id": "8a689f40",
   "metadata": {},
   "outputs": [
    {
     "data": {
      "text/plain": [
       "'o'"
      ]
     },
     "execution_count": 11,
     "metadata": {},
     "output_type": "execute_result"
    }
   ],
   "source": [
    "Data[4]"
   ]
  },
  {
   "cell_type": "code",
   "execution_count": 12,
   "id": "3e0bc11b",
   "metadata": {},
   "outputs": [
    {
     "data": {
      "text/plain": [
       "'a'"
      ]
     },
     "execution_count": 12,
     "metadata": {},
     "output_type": "execute_result"
    }
   ],
   "source": [
    "Data[30]"
   ]
  },
  {
   "cell_type": "code",
   "execution_count": 13,
   "id": "6d12a8c2",
   "metadata": {},
   "outputs": [
    {
     "data": {
      "text/plain": [
       "20"
      ]
     },
     "execution_count": 13,
     "metadata": {},
     "output_type": "execute_result"
    }
   ],
   "source": [
    "Data.index (\"s\")"
   ]
  },
  {
   "cell_type": "code",
   "execution_count": 14,
   "id": "4a0f3943",
   "metadata": {},
   "outputs": [
    {
     "data": {
      "text/plain": [
       "28"
      ]
     },
     "execution_count": 14,
     "metadata": {},
     "output_type": "execute_result"
    }
   ],
   "source": [
    "Data.index(\"class\")"
   ]
  },
  {
   "cell_type": "code",
   "execution_count": 15,
   "id": "a9f41d2c",
   "metadata": {},
   "outputs": [
    {
     "ename": "IndexError",
     "evalue": "string index out of range",
     "output_type": "error",
     "traceback": [
      "\u001b[1;31m---------------------------------------------------------------------------\u001b[0m",
      "\u001b[1;31mIndexError\u001b[0m                                Traceback (most recent call last)",
      "Input \u001b[1;32mIn [15]\u001b[0m, in \u001b[0;36m<cell line: 1>\u001b[1;34m()\u001b[0m\n\u001b[1;32m----> 1\u001b[0m \u001b[43mData\u001b[49m\u001b[43m[\u001b[49m\u001b[38;5;241;43m34\u001b[39;49m\u001b[43m]\u001b[49m\n",
      "\u001b[1;31mIndexError\u001b[0m: string index out of range"
     ]
    }
   ],
   "source": [
    "Data[34]"
   ]
  },
  {
   "cell_type": "code",
   "execution_count": null,
   "id": "e09e346d",
   "metadata": {},
   "outputs": [],
   "source": [
    "Data.index(\"Data\")"
   ]
  },
  {
   "cell_type": "markdown",
   "id": "09eca03b",
   "metadata": {},
   "source": [
    "####  Negative indexing"
   ]
  },
  {
   "cell_type": "code",
   "execution_count": 16,
   "id": "bdac0c25",
   "metadata": {},
   "outputs": [
    {
     "data": {
      "text/plain": [
       "'welcome to the data science class'"
      ]
     },
     "execution_count": 16,
     "metadata": {},
     "output_type": "execute_result"
    }
   ],
   "source": [
    "Data"
   ]
  },
  {
   "cell_type": "code",
   "execution_count": 17,
   "id": "821a9928",
   "metadata": {},
   "outputs": [
    {
     "data": {
      "text/plain": [
       "'e'"
      ]
     },
     "execution_count": 17,
     "metadata": {},
     "output_type": "execute_result"
    }
   ],
   "source": [
    "Data[-10]"
   ]
  },
  {
   "cell_type": "code",
   "execution_count": 18,
   "id": "05252873",
   "metadata": {},
   "outputs": [
    {
     "data": {
      "text/plain": [
       "'l'"
      ]
     },
     "execution_count": 18,
     "metadata": {},
     "output_type": "execute_result"
    }
   ],
   "source": [
    "Data[-31]"
   ]
  },
  {
   "cell_type": "code",
   "execution_count": 19,
   "id": "c55a4aae",
   "metadata": {},
   "outputs": [
    {
     "ename": "IndexError",
     "evalue": "string index out of range",
     "output_type": "error",
     "traceback": [
      "\u001b[1;31m---------------------------------------------------------------------------\u001b[0m",
      "\u001b[1;31mIndexError\u001b[0m                                Traceback (most recent call last)",
      "Input \u001b[1;32mIn [19]\u001b[0m, in \u001b[0;36m<cell line: 1>\u001b[1;34m()\u001b[0m\n\u001b[1;32m----> 1\u001b[0m \u001b[43mData\u001b[49m\u001b[43m[\u001b[49m\u001b[38;5;241;43m-\u001b[39;49m\u001b[38;5;241;43m35\u001b[39;49m\u001b[43m]\u001b[49m\n",
      "\u001b[1;31mIndexError\u001b[0m: string index out of range"
     ]
    }
   ],
   "source": [
    "Data[-35]"
   ]
  },
  {
   "cell_type": "markdown",
   "id": "93eee9c2",
   "metadata": {},
   "source": [
    "###  Slicing\n",
    "\n",
    "* Extract a substring from a string\n",
    "* syntex = start position : End position\n",
    "* start position = included element\n",
    "* End position = Exceled element\n",
    "\n",
    "** slicing is alway works from left to right"
   ]
  },
  {
   "cell_type": "code",
   "execution_count": 20,
   "id": "3aed3e33",
   "metadata": {},
   "outputs": [
    {
     "data": {
      "text/plain": [
       "'welcome to the data science class'"
      ]
     },
     "execution_count": 20,
     "metadata": {},
     "output_type": "execute_result"
    }
   ],
   "source": [
    "Data"
   ]
  },
  {
   "cell_type": "code",
   "execution_count": 21,
   "id": "db1356f9",
   "metadata": {},
   "outputs": [
    {
     "data": {
      "text/plain": [
       "' to the data'"
      ]
     },
     "execution_count": 21,
     "metadata": {},
     "output_type": "execute_result"
    }
   ],
   "source": [
    "Data[7:19]  # positive indexing can be used for slicing"
   ]
  },
  {
   "cell_type": "code",
   "execution_count": 22,
   "id": "a3c198dc",
   "metadata": {},
   "outputs": [
    {
     "data": {
      "text/plain": [
       "'clas'"
      ]
     },
     "execution_count": 22,
     "metadata": {},
     "output_type": "execute_result"
    }
   ],
   "source": [
    "Data[-5:-1] # Negative indexing can be used for slicing"
   ]
  },
  {
   "cell_type": "code",
   "execution_count": 23,
   "id": "d130091e",
   "metadata": {},
   "outputs": [
    {
     "data": {
      "text/plain": [
       "'wloet h aasinecas'"
      ]
     },
     "execution_count": 23,
     "metadata": {},
     "output_type": "execute_result"
    }
   ],
   "source": [
    "Data[::2] # Multiple two two values"
   ]
  },
  {
   "cell_type": "code",
   "execution_count": 24,
   "id": "f9e1d1bc",
   "metadata": {},
   "outputs": [
    {
     "data": {
      "text/plain": [
       "'wceohdacn a'"
      ]
     },
     "execution_count": 24,
     "metadata": {},
     "output_type": "execute_result"
    }
   ],
   "source": [
    "Data[::3]"
   ]
  },
  {
   "cell_type": "code",
   "execution_count": 25,
   "id": "5918927b",
   "metadata": {},
   "outputs": [
    {
     "data": {
      "text/plain": [
       "'sacenisaa h teolw'"
      ]
     },
     "execution_count": 25,
     "metadata": {},
     "output_type": "execute_result"
    }
   ],
   "source": [
    "Data[::-2]"
   ]
  },
  {
   "cell_type": "markdown",
   "id": "7e7d3922",
   "metadata": {},
   "source": [
    "###  List\n",
    "\n",
    "* Order to collections of item/element\n",
    "* syntex = []\n",
    "* MUTABLE"
   ]
  },
  {
   "cell_type": "code",
   "execution_count": 26,
   "id": "c8c4bb35",
   "metadata": {},
   "outputs": [],
   "source": [
    "Names = ['vinitha','kavitha','lalitha','roopa']"
   ]
  },
  {
   "cell_type": "code",
   "execution_count": 27,
   "id": "187334d9",
   "metadata": {},
   "outputs": [
    {
     "data": {
      "text/plain": [
       "['vinitha', 'kavitha', 'lalitha', 'roopa']"
      ]
     },
     "execution_count": 27,
     "metadata": {},
     "output_type": "execute_result"
    }
   ],
   "source": [
    " Names"
   ]
  },
  {
   "cell_type": "code",
   "execution_count": 28,
   "id": "7d76dc6c",
   "metadata": {},
   "outputs": [
    {
     "name": "stdout",
     "output_type": "stream",
     "text": [
      "['vinitha', 'kavitha', 'lalitha', 'roopa']\n"
     ]
    }
   ],
   "source": [
    "print(Names)"
   ]
  },
  {
   "cell_type": "code",
   "execution_count": 29,
   "id": "694b8a99",
   "metadata": {},
   "outputs": [
    {
     "data": {
      "text/plain": [
       "list"
      ]
     },
     "execution_count": 29,
     "metadata": {},
     "output_type": "execute_result"
    }
   ],
   "source": [
    "type(Names)"
   ]
  },
  {
   "cell_type": "code",
   "execution_count": 30,
   "id": "8836fcfb",
   "metadata": {},
   "outputs": [
    {
     "name": "stdout",
     "output_type": "stream",
     "text": [
      "<class 'list'>\n"
     ]
    }
   ],
   "source": [
    "print(type(Names))"
   ]
  },
  {
   "cell_type": "code",
   "execution_count": 31,
   "id": "b6512f8b",
   "metadata": {},
   "outputs": [
    {
     "data": {
      "text/plain": [
       "4"
      ]
     },
     "execution_count": 31,
     "metadata": {},
     "output_type": "execute_result"
    }
   ],
   "source": [
    "len(Names)"
   ]
  },
  {
   "cell_type": "markdown",
   "id": "7ba32107",
   "metadata": {},
   "source": [
    "###  Append\n",
    "\n",
    "* Always adds on the element at the end of the list"
   ]
  },
  {
   "cell_type": "code",
   "execution_count": 32,
   "id": "50559051",
   "metadata": {},
   "outputs": [
    {
     "data": {
      "text/plain": [
       "['vinitha', 'kavitha', 'lalitha', 'roopa']"
      ]
     },
     "execution_count": 32,
     "metadata": {},
     "output_type": "execute_result"
    }
   ],
   "source": [
    "Names"
   ]
  },
  {
   "cell_type": "code",
   "execution_count": 33,
   "id": "31a5b238",
   "metadata": {},
   "outputs": [],
   "source": [
    "Names.append(\"lavanya\") # add 'lavanya' end of the list"
   ]
  },
  {
   "cell_type": "code",
   "execution_count": 34,
   "id": "84688211",
   "metadata": {},
   "outputs": [
    {
     "data": {
      "text/plain": [
       "['vinitha', 'kavitha', 'lalitha', 'roopa', 'lavanya']"
      ]
     },
     "execution_count": 34,
     "metadata": {},
     "output_type": "execute_result"
    }
   ],
   "source": [
    "Names"
   ]
  },
  {
   "cell_type": "code",
   "execution_count": 35,
   "id": "1d3e4f77",
   "metadata": {},
   "outputs": [],
   "source": [
    "Data = [1,2,3,4,5,6,7]"
   ]
  },
  {
   "cell_type": "code",
   "execution_count": 36,
   "id": "ab1115e8",
   "metadata": {},
   "outputs": [
    {
     "data": {
      "text/plain": [
       "[1, 2, 3, 4, 5, 6, 7]"
      ]
     },
     "execution_count": 36,
     "metadata": {},
     "output_type": "execute_result"
    }
   ],
   "source": [
    "Data"
   ]
  },
  {
   "cell_type": "code",
   "execution_count": 37,
   "id": "6b185b71",
   "metadata": {},
   "outputs": [],
   "source": [
    "Data.append(8)"
   ]
  },
  {
   "cell_type": "code",
   "execution_count": 38,
   "id": "75aac7f9",
   "metadata": {},
   "outputs": [
    {
     "data": {
      "text/plain": [
       "[1, 2, 3, 4, 5, 6, 7, 8]"
      ]
     },
     "execution_count": 38,
     "metadata": {},
     "output_type": "execute_result"
    }
   ],
   "source": [
    "Data"
   ]
  },
  {
   "cell_type": "code",
   "execution_count": 39,
   "id": "0ac37dfb",
   "metadata": {},
   "outputs": [
    {
     "ename": "TypeError",
     "evalue": "list.append() takes exactly one argument (2 given)",
     "output_type": "error",
     "traceback": [
      "\u001b[1;31m---------------------------------------------------------------------------\u001b[0m",
      "\u001b[1;31mTypeError\u001b[0m                                 Traceback (most recent call last)",
      "Input \u001b[1;32mIn [39]\u001b[0m, in \u001b[0;36m<cell line: 1>\u001b[1;34m()\u001b[0m\n\u001b[1;32m----> 1\u001b[0m \u001b[43mData\u001b[49m\u001b[38;5;241;43m.\u001b[39;49m\u001b[43mappend\u001b[49m\u001b[43m(\u001b[49m\u001b[38;5;241;43m8\u001b[39;49m\u001b[43m,\u001b[49m\u001b[38;5;241;43m9\u001b[39;49m\u001b[43m)\u001b[49m\n",
      "\u001b[1;31mTypeError\u001b[0m: list.append() takes exactly one argument (2 given)"
     ]
    }
   ],
   "source": [
    "Data.append(8,9)    # list.append() takes exactly one argument"
   ]
  },
  {
   "cell_type": "markdown",
   "id": "ac141934",
   "metadata": {},
   "source": [
    "###  Insert\n",
    "\n",
    "* only one element insert the list\n",
    "* Insert an element/object at a specified index\n",
    "* Add the value any places"
   ]
  },
  {
   "cell_type": "code",
   "execution_count": 40,
   "id": "dc012137",
   "metadata": {},
   "outputs": [
    {
     "data": {
      "text/plain": [
       "['vinitha', 'kavitha', 'lalitha', 'roopa', 'lavanya']"
      ]
     },
     "execution_count": 40,
     "metadata": {},
     "output_type": "execute_result"
    }
   ],
   "source": [
    "Names"
   ]
  },
  {
   "cell_type": "code",
   "execution_count": 41,
   "id": "9b49fb9c",
   "metadata": {},
   "outputs": [],
   "source": [
    "Names.insert(2,\"keerthiga\") # Insert the element based on index"
   ]
  },
  {
   "cell_type": "code",
   "execution_count": 42,
   "id": "53f29150",
   "metadata": {},
   "outputs": [
    {
     "data": {
      "text/plain": [
       "['vinitha', 'kavitha', 'keerthiga', 'lalitha', 'roopa', 'lavanya']"
      ]
     },
     "execution_count": 42,
     "metadata": {},
     "output_type": "execute_result"
    }
   ],
   "source": [
    "Names"
   ]
  },
  {
   "cell_type": "code",
   "execution_count": 43,
   "id": "915ac1f9",
   "metadata": {},
   "outputs": [],
   "source": [
    "Names.insert(-2,\"deepa\")"
   ]
  },
  {
   "cell_type": "code",
   "execution_count": 44,
   "id": "959b5bc7",
   "metadata": {},
   "outputs": [
    {
     "data": {
      "text/plain": [
       "['vinitha', 'kavitha', 'keerthiga', 'lalitha', 'deepa', 'roopa', 'lavanya']"
      ]
     },
     "execution_count": 44,
     "metadata": {},
     "output_type": "execute_result"
    }
   ],
   "source": [
    "Names"
   ]
  },
  {
   "cell_type": "code",
   "execution_count": 45,
   "id": "e01497f0",
   "metadata": {},
   "outputs": [
    {
     "data": {
      "text/plain": [
       "[1, 2, 3, 4, 5, 6, 7, 8]"
      ]
     },
     "execution_count": 45,
     "metadata": {},
     "output_type": "execute_result"
    }
   ],
   "source": [
    "Data"
   ]
  },
  {
   "cell_type": "code",
   "execution_count": 46,
   "id": "7c05de37",
   "metadata": {},
   "outputs": [],
   "source": [
    "Data.insert(3,10)"
   ]
  },
  {
   "cell_type": "code",
   "execution_count": 47,
   "id": "0745cb38",
   "metadata": {},
   "outputs": [
    {
     "data": {
      "text/plain": [
       "[1, 2, 3, 10, 4, 5, 6, 7, 8]"
      ]
     },
     "execution_count": 47,
     "metadata": {},
     "output_type": "execute_result"
    }
   ],
   "source": [
    "Data"
   ]
  },
  {
   "cell_type": "markdown",
   "id": "a6166ab9",
   "metadata": {},
   "source": [
    "####  Remove\n",
    "\n",
    "* Remove the element/object based on the value"
   ]
  },
  {
   "cell_type": "code",
   "execution_count": 48,
   "id": "c23bf169",
   "metadata": {},
   "outputs": [
    {
     "data": {
      "text/plain": [
       "[1, 2, 3, 10, 4, 5, 6, 7, 8]"
      ]
     },
     "execution_count": 48,
     "metadata": {},
     "output_type": "execute_result"
    }
   ],
   "source": [
    "Data"
   ]
  },
  {
   "cell_type": "code",
   "execution_count": 49,
   "id": "dc5278d9",
   "metadata": {},
   "outputs": [],
   "source": [
    "Data.remove(2)"
   ]
  },
  {
   "cell_type": "code",
   "execution_count": 50,
   "id": "50097d8e",
   "metadata": {},
   "outputs": [
    {
     "data": {
      "text/plain": [
       "[1, 3, 10, 4, 5, 6, 7, 8]"
      ]
     },
     "execution_count": 50,
     "metadata": {},
     "output_type": "execute_result"
    }
   ],
   "source": [
    "Data"
   ]
  },
  {
   "cell_type": "code",
   "execution_count": 51,
   "id": "665802cb",
   "metadata": {},
   "outputs": [
    {
     "ename": "TypeError",
     "evalue": "'list' object is not callable",
     "output_type": "error",
     "traceback": [
      "\u001b[1;31m---------------------------------------------------------------------------\u001b[0m",
      "\u001b[1;31mTypeError\u001b[0m                                 Traceback (most recent call last)",
      "Input \u001b[1;32mIn [51]\u001b[0m, in \u001b[0;36m<cell line: 1>\u001b[1;34m()\u001b[0m\n\u001b[1;32m----> 1\u001b[0m \u001b[43mData\u001b[49m\u001b[43m(\u001b[49m\u001b[38;5;241;43m3\u001b[39;49m\u001b[43m)\u001b[49m\n",
      "\u001b[1;31mTypeError\u001b[0m: 'list' object is not callable"
     ]
    }
   ],
   "source": [
    "Data(3)"
   ]
  },
  {
   "cell_type": "code",
   "execution_count": 52,
   "id": "c9b8ab7e",
   "metadata": {},
   "outputs": [
    {
     "data": {
      "text/plain": [
       "['vinitha', 'kavitha', 'keerthiga', 'lalitha', 'deepa', 'roopa', 'lavanya']"
      ]
     },
     "execution_count": 52,
     "metadata": {},
     "output_type": "execute_result"
    }
   ],
   "source": [
    "Names"
   ]
  },
  {
   "cell_type": "code",
   "execution_count": 53,
   "id": "49f0ce44",
   "metadata": {},
   "outputs": [],
   "source": [
    "Names.remove(\"deepa\")"
   ]
  },
  {
   "cell_type": "code",
   "execution_count": 54,
   "id": "e036739f",
   "metadata": {},
   "outputs": [
    {
     "data": {
      "text/plain": [
       "['vinitha', 'kavitha', 'keerthiga', 'lalitha', 'roopa', 'lavanya']"
      ]
     },
     "execution_count": 54,
     "metadata": {},
     "output_type": "execute_result"
    }
   ],
   "source": [
    "Names"
   ]
  },
  {
   "cell_type": "markdown",
   "id": "be336a05",
   "metadata": {},
   "source": [
    "###  Pop\n",
    "\n",
    "* Remove the  element/object based on the Index \n",
    "* Index is -1 (last element)"
   ]
  },
  {
   "cell_type": "code",
   "execution_count": 55,
   "id": "a2d25c26",
   "metadata": {},
   "outputs": [
    {
     "data": {
      "text/plain": [
       "[1, 3, 10, 4, 5, 6, 7, 8]"
      ]
     },
     "execution_count": 55,
     "metadata": {},
     "output_type": "execute_result"
    }
   ],
   "source": [
    "Data"
   ]
  },
  {
   "cell_type": "code",
   "execution_count": 56,
   "id": "82bbe4aa",
   "metadata": {},
   "outputs": [
    {
     "data": {
      "text/plain": [
       "3"
      ]
     },
     "execution_count": 56,
     "metadata": {},
     "output_type": "execute_result"
    }
   ],
   "source": [
    "Data.pop(1)"
   ]
  },
  {
   "cell_type": "code",
   "execution_count": 57,
   "id": "f61842c8",
   "metadata": {},
   "outputs": [
    {
     "data": {
      "text/plain": [
       "[1, 10, 4, 5, 6, 7, 8]"
      ]
     },
     "execution_count": 57,
     "metadata": {},
     "output_type": "execute_result"
    }
   ],
   "source": [
    "Data"
   ]
  },
  {
   "cell_type": "code",
   "execution_count": 58,
   "id": "4ad5f39f",
   "metadata": {},
   "outputs": [
    {
     "data": {
      "text/plain": [
       "['vinitha', 'kavitha', 'keerthiga', 'lalitha', 'roopa', 'lavanya']"
      ]
     },
     "execution_count": 58,
     "metadata": {},
     "output_type": "execute_result"
    }
   ],
   "source": [
    "Names"
   ]
  },
  {
   "cell_type": "code",
   "execution_count": 59,
   "id": "53e62bfa",
   "metadata": {},
   "outputs": [
    {
     "data": {
      "text/plain": [
       "'keerthiga'"
      ]
     },
     "execution_count": 59,
     "metadata": {},
     "output_type": "execute_result"
    }
   ],
   "source": [
    "Names.pop(2)"
   ]
  },
  {
   "cell_type": "code",
   "execution_count": 60,
   "id": "f9d5812e",
   "metadata": {},
   "outputs": [
    {
     "data": {
      "text/plain": [
       "['vinitha', 'kavitha', 'lalitha', 'roopa', 'lavanya']"
      ]
     },
     "execution_count": 60,
     "metadata": {},
     "output_type": "execute_result"
    }
   ],
   "source": [
    "Names"
   ]
  },
  {
   "cell_type": "markdown",
   "id": "0b68fdc3",
   "metadata": {},
   "source": [
    "#### Using del keyword"
   ]
  },
  {
   "cell_type": "code",
   "execution_count": 61,
   "id": "ea2ab3ad",
   "metadata": {},
   "outputs": [
    {
     "data": {
      "text/plain": [
       "[1, 10, 4, 5, 6, 7, 8]"
      ]
     },
     "execution_count": 61,
     "metadata": {},
     "output_type": "execute_result"
    }
   ],
   "source": [
    "Data"
   ]
  },
  {
   "cell_type": "code",
   "execution_count": 62,
   "id": "3510a1c6",
   "metadata": {},
   "outputs": [],
   "source": [
    "del Data [4]  # Based on index value"
   ]
  },
  {
   "cell_type": "code",
   "execution_count": 63,
   "id": "801360d3",
   "metadata": {},
   "outputs": [
    {
     "data": {
      "text/plain": [
       "[1, 10, 4, 5, 7, 8]"
      ]
     },
     "execution_count": 63,
     "metadata": {},
     "output_type": "execute_result"
    }
   ],
   "source": [
    "Data"
   ]
  },
  {
   "cell_type": "code",
   "execution_count": 64,
   "id": "8311d885",
   "metadata": {},
   "outputs": [],
   "source": [
    "del Data [1:3] # Based on slicing"
   ]
  },
  {
   "cell_type": "code",
   "execution_count": 65,
   "id": "814cbecd",
   "metadata": {},
   "outputs": [
    {
     "data": {
      "text/plain": [
       "[1, 5, 7, 8]"
      ]
     },
     "execution_count": 65,
     "metadata": {},
     "output_type": "execute_result"
    }
   ],
   "source": [
    "Data"
   ]
  },
  {
   "cell_type": "markdown",
   "id": "694e5e5b",
   "metadata": {},
   "source": [
    "####  Append (Using list)"
   ]
  },
  {
   "cell_type": "code",
   "execution_count": 66,
   "id": "000b603d",
   "metadata": {},
   "outputs": [
    {
     "data": {
      "text/plain": [
       "['vinitha', 'kavitha', 'lalitha', 'roopa', 'lavanya']"
      ]
     },
     "execution_count": 66,
     "metadata": {},
     "output_type": "execute_result"
    }
   ],
   "source": [
    "Names"
   ]
  },
  {
   "cell_type": "code",
   "execution_count": 67,
   "id": "e07564ca",
   "metadata": {},
   "outputs": [
    {
     "data": {
      "text/plain": [
       "[1, 5, 7, 8]"
      ]
     },
     "execution_count": 67,
     "metadata": {},
     "output_type": "execute_result"
    }
   ],
   "source": [
    "Data"
   ]
  },
  {
   "cell_type": "code",
   "execution_count": 68,
   "id": "455a501b",
   "metadata": {},
   "outputs": [
    {
     "data": {
      "text/plain": [
       "5"
      ]
     },
     "execution_count": 68,
     "metadata": {},
     "output_type": "execute_result"
    }
   ],
   "source": [
    "len(Names)"
   ]
  },
  {
   "cell_type": "code",
   "execution_count": 69,
   "id": "0a5d0e6f",
   "metadata": {},
   "outputs": [
    {
     "data": {
      "text/plain": [
       "4"
      ]
     },
     "execution_count": 69,
     "metadata": {},
     "output_type": "execute_result"
    }
   ],
   "source": [
    "len(Data)"
   ]
  },
  {
   "cell_type": "code",
   "execution_count": 70,
   "id": "4e84e778",
   "metadata": {},
   "outputs": [],
   "source": [
    "Names.append(Data)"
   ]
  },
  {
   "cell_type": "code",
   "execution_count": 71,
   "id": "b7d687b4",
   "metadata": {},
   "outputs": [
    {
     "data": {
      "text/plain": [
       "['vinitha', 'kavitha', 'lalitha', 'roopa', 'lavanya', [1, 5, 7, 8]]"
      ]
     },
     "execution_count": 71,
     "metadata": {},
     "output_type": "execute_result"
    }
   ],
   "source": [
    "Names"
   ]
  },
  {
   "cell_type": "code",
   "execution_count": 72,
   "id": "e94e2867",
   "metadata": {},
   "outputs": [
    {
     "data": {
      "text/plain": [
       "6"
      ]
     },
     "execution_count": 72,
     "metadata": {},
     "output_type": "execute_result"
    }
   ],
   "source": [
    "len(Names)"
   ]
  },
  {
   "cell_type": "code",
   "execution_count": 73,
   "id": "db1ad30c",
   "metadata": {},
   "outputs": [
    {
     "data": {
      "text/plain": [
       "5"
      ]
     },
     "execution_count": 73,
     "metadata": {},
     "output_type": "execute_result"
    }
   ],
   "source": [
    "Names[-1][-3]"
   ]
  },
  {
   "cell_type": "code",
   "execution_count": 74,
   "id": "ac332c84",
   "metadata": {},
   "outputs": [
    {
     "data": {
      "text/plain": [
       "['vinitha', 'kavitha', 'lalitha', 'roopa', 'lavanya', [1, 5, 7, 8]]"
      ]
     },
     "execution_count": 74,
     "metadata": {},
     "output_type": "execute_result"
    }
   ],
   "source": [
    "Names"
   ]
  },
  {
   "cell_type": "code",
   "execution_count": 75,
   "id": "de2f34ca",
   "metadata": {},
   "outputs": [
    {
     "data": {
      "text/plain": [
       "8"
      ]
     },
     "execution_count": 75,
     "metadata": {},
     "output_type": "execute_result"
    }
   ],
   "source": [
    "Names[5][3]"
   ]
  },
  {
   "cell_type": "code",
   "execution_count": 76,
   "id": "9e487a81",
   "metadata": {},
   "outputs": [
    {
     "data": {
      "text/plain": [
       "'roopa'"
      ]
     },
     "execution_count": 76,
     "metadata": {},
     "output_type": "execute_result"
    }
   ],
   "source": [
    "Names[3]"
   ]
  },
  {
   "cell_type": "code",
   "execution_count": 77,
   "id": "8f5ad8f0",
   "metadata": {},
   "outputs": [
    {
     "data": {
      "text/plain": [
       "['vinitha', 'kavitha', 'lalitha', 'roopa', 'lavanya', [1, 5, 7, 8]]"
      ]
     },
     "execution_count": 77,
     "metadata": {},
     "output_type": "execute_result"
    }
   ],
   "source": [
    "Names"
   ]
  },
  {
   "cell_type": "markdown",
   "id": "0592becc",
   "metadata": {},
   "source": [
    "###  Extend\n",
    " \n",
    "* Extend the list with the elements\n",
    "* Increase the length of list"
   ]
  },
  {
   "cell_type": "code",
   "execution_count": 78,
   "id": "a1025c2c",
   "metadata": {},
   "outputs": [
    {
     "data": {
      "text/plain": [
       "[1, 5, 7, 8]"
      ]
     },
     "execution_count": 78,
     "metadata": {},
     "output_type": "execute_result"
    }
   ],
   "source": [
    "Data "
   ]
  },
  {
   "cell_type": "code",
   "execution_count": 79,
   "id": "c3bc48f0",
   "metadata": {},
   "outputs": [],
   "source": [
    "Data.append(2)"
   ]
  },
  {
   "cell_type": "code",
   "execution_count": 80,
   "id": "82b7dc22",
   "metadata": {},
   "outputs": [
    {
     "data": {
      "text/plain": [
       "[1, 5, 7, 8, 2]"
      ]
     },
     "execution_count": 80,
     "metadata": {},
     "output_type": "execute_result"
    }
   ],
   "source": [
    "Data"
   ]
  },
  {
   "cell_type": "code",
   "execution_count": 81,
   "id": "60765e80",
   "metadata": {},
   "outputs": [],
   "source": [
    "Data.append(3)"
   ]
  },
  {
   "cell_type": "code",
   "execution_count": 82,
   "id": "6882455f",
   "metadata": {},
   "outputs": [
    {
     "data": {
      "text/plain": [
       "[1, 5, 7, 8, 2, 3]"
      ]
     },
     "execution_count": 82,
     "metadata": {},
     "output_type": "execute_result"
    }
   ],
   "source": [
    "Data"
   ]
  },
  {
   "cell_type": "code",
   "execution_count": 83,
   "id": "fe976e1c",
   "metadata": {},
   "outputs": [],
   "source": [
    "Data.append(9)"
   ]
  },
  {
   "cell_type": "code",
   "execution_count": 84,
   "id": "b41d7483",
   "metadata": {},
   "outputs": [
    {
     "data": {
      "text/plain": [
       "[1, 5, 7, 8, 2, 3, 9]"
      ]
     },
     "execution_count": 84,
     "metadata": {},
     "output_type": "execute_result"
    }
   ],
   "source": [
    "Data"
   ]
  },
  {
   "cell_type": "code",
   "execution_count": 85,
   "id": "0e80a8a5",
   "metadata": {},
   "outputs": [],
   "source": [
    "Data1 = [1,2,3,4]"
   ]
  },
  {
   "cell_type": "code",
   "execution_count": 86,
   "id": "660ebca6",
   "metadata": {},
   "outputs": [
    {
     "data": {
      "text/plain": [
       "[1, 2, 3, 4]"
      ]
     },
     "execution_count": 86,
     "metadata": {},
     "output_type": "execute_result"
    }
   ],
   "source": [
    "Data1"
   ]
  },
  {
   "cell_type": "code",
   "execution_count": 87,
   "id": "509da5c1",
   "metadata": {},
   "outputs": [],
   "source": [
    "Data.extend(Data1)"
   ]
  },
  {
   "cell_type": "code",
   "execution_count": 88,
   "id": "8613d902",
   "metadata": {},
   "outputs": [
    {
     "data": {
      "text/plain": [
       "[1, 5, 7, 8, 2, 3, 9, 1, 2, 3, 4]"
      ]
     },
     "execution_count": 88,
     "metadata": {},
     "output_type": "execute_result"
    }
   ],
   "source": [
    "Data"
   ]
  },
  {
   "cell_type": "code",
   "execution_count": 89,
   "id": "4dcb0b82",
   "metadata": {},
   "outputs": [
    {
     "data": {
      "text/plain": [
       "['vinitha',\n",
       " 'kavitha',\n",
       " 'lalitha',\n",
       " 'roopa',\n",
       " 'lavanya',\n",
       " [1, 5, 7, 8, 2, 3, 9, 1, 2, 3, 4]]"
      ]
     },
     "execution_count": 89,
     "metadata": {},
     "output_type": "execute_result"
    }
   ],
   "source": [
    "Names"
   ]
  },
  {
   "cell_type": "code",
   "execution_count": 90,
   "id": "cdfc9e8c",
   "metadata": {},
   "outputs": [],
   "source": [
    "Names.extend(Data1)"
   ]
  },
  {
   "cell_type": "code",
   "execution_count": 91,
   "id": "4f5835bb",
   "metadata": {},
   "outputs": [
    {
     "data": {
      "text/plain": [
       "['vinitha',\n",
       " 'kavitha',\n",
       " 'lalitha',\n",
       " 'roopa',\n",
       " 'lavanya',\n",
       " [1, 5, 7, 8, 2, 3, 9, 1, 2, 3, 4],\n",
       " 1,\n",
       " 2,\n",
       " 3,\n",
       " 4]"
      ]
     },
     "execution_count": 91,
     "metadata": {},
     "output_type": "execute_result"
    }
   ],
   "source": [
    "Names"
   ]
  },
  {
   "cell_type": "markdown",
   "id": "5b1f9b13",
   "metadata": {},
   "source": [
    "#### Count "
   ]
  },
  {
   "cell_type": "code",
   "execution_count": 92,
   "id": "5f2a1c58",
   "metadata": {},
   "outputs": [
    {
     "data": {
      "text/plain": [
       "[1, 5, 7, 8, 2, 3, 9, 1, 2, 3, 4]"
      ]
     },
     "execution_count": 92,
     "metadata": {},
     "output_type": "execute_result"
    }
   ],
   "source": [
    "Data"
   ]
  },
  {
   "cell_type": "code",
   "execution_count": 93,
   "id": "2dfb152a",
   "metadata": {},
   "outputs": [
    {
     "data": {
      "text/plain": [
       "1"
      ]
     },
     "execution_count": 93,
     "metadata": {},
     "output_type": "execute_result"
    }
   ],
   "source": [
    "Data.count(4) #  How many times 4 occurs in the list "
   ]
  },
  {
   "cell_type": "code",
   "execution_count": 94,
   "id": "5ed6715c",
   "metadata": {},
   "outputs": [
    {
     "data": {
      "text/plain": [
       "2"
      ]
     },
     "execution_count": 94,
     "metadata": {},
     "output_type": "execute_result"
    }
   ],
   "source": [
    "Data.count(3) "
   ]
  },
  {
   "cell_type": "markdown",
   "id": "72264681",
   "metadata": {},
   "source": [
    "  Mutable  = List , dict , set\n",
    "  \n",
    " Immutable = string , int , float , tuple , bool"
   ]
  },
  {
   "cell_type": "markdown",
   "id": "b458e48d",
   "metadata": {},
   "source": [
    "what is MUTABLE ?\n",
    "\n",
    "   * If the value can change the object\n",
    "\n",
    "    \n",
    " what is IMUTABLE ?\n",
    "\n",
    "  * If the value cannot change the object"
   ]
  },
  {
   "cell_type": "code",
   "execution_count": null,
   "id": "73a3f46d",
   "metadata": {},
   "outputs": [],
   "source": []
  }
 ],
 "metadata": {
  "kernelspec": {
   "display_name": "Python 3 (ipykernel)",
   "language": "python",
   "name": "python3"
  },
  "language_info": {
   "codemirror_mode": {
    "name": "ipython",
    "version": 3
   },
   "file_extension": ".py",
   "mimetype": "text/x-python",
   "name": "python",
   "nbconvert_exporter": "python",
   "pygments_lexer": "ipython3",
   "version": "3.9.12"
  }
 },
 "nbformat": 4,
 "nbformat_minor": 5
}
